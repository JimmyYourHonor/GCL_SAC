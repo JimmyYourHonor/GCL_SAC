{
 "cells": [
  {
   "cell_type": "code",
   "execution_count": 1,
   "metadata": {},
   "outputs": [
    {
     "name": "stderr",
     "output_type": "stream",
     "text": [
      "/home/jif055/.local/lib/python3.8/site-packages/gym/logger.py:30: UserWarning: \u001b[33mWARN: Box bound precision lowered by casting to float32\u001b[0m\n",
      "  warnings.warn(colorize('%s: %s'%('WARN', msg % args), 'yellow'))\n"
     ]
    },
    {
     "name": "stdout",
     "output_type": "stream",
     "text": [
      "... loading models ...\n"
     ]
    }
   ],
   "source": [
    "import pybullet_envs\n",
    "import gym\n",
    "import random\n",
    "import numpy as np\n",
    "import matplotlib.pyplot as plt\n",
    "import torch\n",
    "\n",
    "from sac_torch import Agent\n",
    "seed = 18095048\n",
    "random.seed(seed)\n",
    "np.random.seed(seed)\n",
    "torch.manual_seed(seed)\n",
    "\n",
    "env_name = 'InvertedPendulumBulletEnv-v0'\n",
    "env = gym.make(env_name)\n",
    "if seed is not None:\n",
    "    env.seed(seed)\n",
    "state = env.reset()\n",
    "# initializing a model\n",
    "model = Agent(input_dims=env.observation_space.shape[0], env=env, \n",
    "                n_actions=env.action_space.shape[0])\n",
    "model.load_models()"
   ]
  },
  {
   "cell_type": "code",
   "execution_count": 13,
   "metadata": {},
   "outputs": [],
   "source": [
    "num_expert = 100\n",
    "states = np.array([])\n",
    "probs = np.array([])\n",
    "actions = np.array([])\n",
    "for i in range(num_expert):\n",
    "    state, prob, action, _ = model.generate_session(env)\n",
    "    states = np.concatenate((states, state.reshape(-1)))\n",
    "    probs = np.concatenate((probs, prob))\n",
    "    actions = np.concatenate((actions, action))\n",
    "states = states.reshape(-1,5)\n",
    "np.save('expert_samples/sac_inverted_pendulum_states', states)\n",
    "np.save('expert_samples/sac_inverted_pendulum_actions', actions)\n",
    "np.save('expert_samples/sac_inverted_pendulum_probs', probs)"
   ]
  },
  {
   "cell_type": "code",
   "execution_count": 4,
   "metadata": {},
   "outputs": [],
   "source": [
    "states = np.load('expert_samples/sac_inverted_pendulum_states.npy',allow_pickle=True)\n",
    "actions = np.load('expert_samples/sac_inverted_pendulum_actions.npy',allow_pickle=True)\n",
    "probs = np.load('expert_samples/sac_inverted_pendulum_probs.npy',allow_pickle=True)"
   ]
  },
  {
   "cell_type": "code",
   "execution_count": 5,
   "metadata": {},
   "outputs": [
    {
     "data": {
      "text/plain": [
       "array([[ 0.00000000e+00,  0.00000000e+00,  9.99880950e-01,\n",
       "        -1.54300375e-02,  0.00000000e+00],\n",
       "       [-8.50170247e-04, -5.15254695e-02,  9.99905805e-01,\n",
       "        -1.37251699e-02,  1.03336301e-01],\n",
       "       [-2.51087306e-03, -1.00648655e-01,  9.99946035e-01,\n",
       "        -1.03888098e-02,  2.02218440e-01],\n",
       "       ...,\n",
       "       [ 3.79480710e-01, -5.24581847e-02,  9.99669843e-01,\n",
       "        -2.56944709e-02,  2.15491677e-01],\n",
       "       [ 3.78402647e-01, -6.53371712e-02,  9.99761690e-01,\n",
       "        -2.18303444e-02,  2.34255776e-01],\n",
       "       [ 3.76768786e-01, -9.90218504e-02,  9.99856927e-01,\n",
       "        -1.69152399e-02,  2.97941337e-01]])"
      ]
     },
     "execution_count": 5,
     "metadata": {},
     "output_type": "execute_result"
    }
   ],
   "source": []
  },
  {
   "cell_type": "code",
   "execution_count": null,
   "metadata": {},
   "outputs": [],
   "source": []
  }
 ],
 "metadata": {
  "kernelspec": {
   "display_name": "ml-latest",
   "language": "python",
   "name": "ml-latest"
  },
  "language_info": {
   "codemirror_mode": {
    "name": "ipython",
    "version": 3
   },
   "file_extension": ".py",
   "mimetype": "text/x-python",
   "name": "python",
   "nbconvert_exporter": "python",
   "pygments_lexer": "ipython3",
   "version": "3.8.6"
  }
 },
 "nbformat": 4,
 "nbformat_minor": 4
}
